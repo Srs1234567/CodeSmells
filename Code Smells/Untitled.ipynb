{
 "cells": [
  {
   "cell_type": "code",
   "execution_count": 3,
   "id": "f980565b",
   "metadata": {},
   "outputs": [],
   "source": [
    "import os\n",
    "import re\n",
    "import shutil\n",
    "\n",
    "# Get the current working directory and list the assignment folders\n",
    "current_dir = os.getcwd()\n",
    "assignment_folders = [folder for folder in os.listdir(current_dir) if os.path.isdir(os.path.join(current_dir, folder))]\n",
    "\n",
    "# Loop through each assignment folder in the source directory\n",
    "for assignment_folder in assignment_folders:\n",
    "\n",
    "    # Loop through each student folder in the assignment folder\n",
    "    for student_folder in os.listdir(os.path.join(current_dir, assignment_folder)):\n",
    "        if not os.path.isdir(os.path.join(current_dir, assignment_folder, student_folder)):\n",
    "            continue\n",
    "\n",
    "        # Use regular expression to extract the student number from the folder name\n",
    "        match = re.match(r\"student(\\d+)\", student_folder)\n",
    "        if match:\n",
    "            student_number = match.group(1)\n",
    "\n",
    "            # Create the xmlfiles folder in the student folder\n",
    "            xml_folder = os.path.join(current_dir, assignment_folder, student_folder, \"xmlfiles\")\n",
    "            os.makedirs(xml_folder, exist_ok=True)\n",
    "\n",
    "            # Move each XML file to the xmlfiles folder\n",
    "            for xml_file in os.listdir(os.path.join(current_dir, assignment_folder, student_folder)):\n",
    "                print(xml_file)\n",
    "                if xml_file.endswith(\".xml\"):\n",
    "                    src_file = os.path.join(current_dir, assignment_folder, student_folder, xml_file)\n",
    "                    dst_file = os.path.join(xml_folder, xml_file)\n",
    "                    shutil.move(src_file, dst_file)\n"
   ]
  },
  {
   "cell_type": "code",
   "execution_count": null,
   "id": "5516235c",
   "metadata": {},
   "outputs": [],
   "source": []
  }
 ],
 "metadata": {
  "kernelspec": {
   "display_name": "Python 3 (ipykernel)",
   "language": "python",
   "name": "python3"
  },
  "language_info": {
   "codemirror_mode": {
    "name": "ipython",
    "version": 3
   },
   "file_extension": ".py",
   "mimetype": "text/x-python",
   "name": "python",
   "nbconvert_exporter": "python",
   "pygments_lexer": "ipython3",
   "version": "3.8.8"
  }
 },
 "nbformat": 4,
 "nbformat_minor": 5
}
