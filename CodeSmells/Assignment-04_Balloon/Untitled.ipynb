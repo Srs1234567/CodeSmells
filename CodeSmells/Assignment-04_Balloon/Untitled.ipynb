{
 "cells": [
  {
   "cell_type": "code",
   "execution_count": 3,
   "id": "32cc5df2",
   "metadata": {},
   "outputs": [
    {
     "name": "stdout",
     "output_type": "stream",
     "text": [
      "Balloon student 02 (1).java\n",
      "Balloon student 02 (2).java\n",
      "Balloon student 02 (3).java\n",
      "Balloon student 04 (1).java\n",
      "Balloon student 04 (2).java\n",
      "Balloon student 10 (1).java\n",
      "Balloon student 10 (2).java\n",
      "Balloon student 11.java\n",
      "Balloon student 12 (1).java\n",
      "Balloon student 12 (2).java\n",
      "Balloon student 13 (1).java\n",
      "Balloon student 13 (2).java\n",
      "Balloon student 14 (1).java\n",
      "Balloon student 14 (2).java\n",
      "Balloon student 20 (1).java\n",
      "Balloon student 20 (2).java\n",
      "Balloon student 20 (3).java\n",
      "Balloon student 20 (4).java\n",
      "Balloon student 20 (5).java\n",
      "Balloon student 20 (6).java\n",
      "Balloon student 21 (1).java\n",
      "Balloon student 21 (2).java\n",
      "Balloon student 22 (1).java\n",
      "Balloon student 22 (2).java\n",
      "Balloon student 23 (1).java\n",
      "Balloon student 23 (2).java\n",
      "Balloon student 24 (1).java\n",
      "Balloon student 24 (2).java\n",
      "Balloon student 28 (1).java\n",
      "Balloon student 28 (2).java\n",
      "Balloon student 31.java\n",
      "Balloon student 41 (1).java\n",
      "Balloon student 41 (2).java\n",
      "Balloon student 45 (1).java\n",
      "Balloon student 45 (2).java\n"
     ]
    }
   ],
   "source": [
    "import os\n",
    "import shutil\n",
    "\n",
    "def move_java_files():\n",
    "    current_dir = os.getcwd()\n",
    "    files = os.listdir(current_dir)\n",
    "    for file in files:\n",
    "        if file.endswith('.java'):\n",
    "            # Get the student number from the file name\n",
    "            print(file)\n",
    "            student_number = file.split(' ')[-1].split('.')[0]\n",
    "            \n",
    "            # Create the folder name\n",
    "            folder_name = f'student {student_number}'\n",
    "            \n",
    "            # Define the path to the student's folder\n",
    "            folder_path = os.path.join(current_dir, folder_name)\n",
    "            \n",
    "            # Create the folder if it doesn't exist\n",
    "            if not os.path.exists(folder_path):\n",
    "                os.mkdir(folder_path)\n",
    "            \n",
    "            # Define the path to the new file\n",
    "            new_file_path = os.path.join(folder_path, file)\n",
    "            \n",
    "            # Move the file to the new folder with the same name\n",
    "            shutil.move(file, new_file_path)\n",
    "\n",
    "move_java_files()\n"
   ]
  },
  {
   "cell_type": "code",
   "execution_count": null,
   "id": "709ebad2",
   "metadata": {},
   "outputs": [],
   "source": []
  },
  {
   "cell_type": "code",
   "execution_count": 4,
   "id": "4e2be710",
   "metadata": {},
   "outputs": [],
   "source": [
    "import os\n",
    "import shutil\n",
    "import re\n",
    "\n",
    "def move_java_files():\n",
    "    current_dir = os.getcwd()\n",
    "    files = os.listdir(current_dir)\n",
    "    for file in files:\n",
    "        if file.endswith('.java'):\n",
    "            # Get the student number from the file name\n",
    "            split_file = re.split('[\\s\\(\\)]', file)\n",
    "            student_number = ''.join(filter(str.isdigit, split_file[2]))\n",
    "            \n",
    "            # Create the folder name\n",
    "            folder_name = f'student {student_number}'\n",
    "            \n",
    "            # Define the path to the student's folder\n",
    "            folder_path = os.path.join(current_dir, folder_name)\n",
    "            \n",
    "            # Create the folder if it doesn't exist\n",
    "            if not os.path.exists(folder_path):\n",
    "                os.mkdir(folder_path)\n",
    "            \n",
    "            # Define the new file name\n",
    "            new_file_name = f'student{student_number}_{file}'\n",
    "            new_file_name = new_file_name.replace(' ', '_')\n",
    "            \n",
    "            # Define the path to the new file\n",
    "            new_file_path = os.path.join(folder_path, new_file_name)\n",
    "            \n",
    "            # Move the file to the new folder with the new name\n",
    "            shutil.move(file, new_file_path)\n",
    "\n",
    "move_java_files()\n"
   ]
  },
  {
   "cell_type": "code",
   "execution_count": null,
   "id": "a5b9595d",
   "metadata": {},
   "outputs": [],
   "source": []
  },
  {
   "cell_type": "code",
   "execution_count": null,
   "id": "b15a3cf1",
   "metadata": {},
   "outputs": [],
   "source": []
  },
  {
   "cell_type": "code",
   "execution_count": 6,
   "id": "e30a2b71",
   "metadata": {
    "scrolled": true
   },
   "outputs": [
    {
     "ename": "FileExistsError",
     "evalue": "[WinError 183] No se puede crear un archivo que ya existe: 'C:\\\\Users\\\\Usuario\\\\Desktop\\\\CS3331_Students_exercise\\\\Assignment-04_Balloon\\\\student 04\\\\student04_Balloon_student_04_(2).java' -> 'C:\\\\Users\\\\Usuario\\\\Desktop\\\\CS3331_Students_exercise\\\\Assignment-04_Balloon\\\\student 04\\\\Student t04.java'",
     "output_type": "error",
     "traceback": [
      "\u001b[1;31m-----------------------------------------------------------------\u001b[0m",
      "\u001b[1;31mFileExistsError\u001b[0m                 Traceback (most recent call last)",
      "Input \u001b[1;32mIn [6]\u001b[0m, in \u001b[0;36m<cell line: 19>\u001b[1;34m()\u001b[0m\n\u001b[0;32m     16\u001b[0m                         new_file_path \u001b[38;5;241m=\u001b[39m os\u001b[38;5;241m.\u001b[39mpath\u001b[38;5;241m.\u001b[39mjoin(folder_path, new_file_name)\n\u001b[0;32m     17\u001b[0m                         os\u001b[38;5;241m.\u001b[39mrename(os\u001b[38;5;241m.\u001b[39mpath\u001b[38;5;241m.\u001b[39mjoin(folder_path, file), new_file_path)\n\u001b[1;32m---> 19\u001b[0m \u001b[43mrename_java_files\u001b[49m\u001b[43m(\u001b[49m\u001b[43m)\u001b[49m\n",
      "Input \u001b[1;32mIn [6]\u001b[0m, in \u001b[0;36mrename_java_files\u001b[1;34m()\u001b[0m\n\u001b[0;32m     15\u001b[0m new_file_name \u001b[38;5;241m=\u001b[39m \u001b[38;5;124mf\u001b[39m\u001b[38;5;124m'\u001b[39m\u001b[38;5;124mStudent \u001b[39m\u001b[38;5;132;01m{\u001b[39;00mstudent_number\u001b[38;5;132;01m}\u001b[39;00m\u001b[38;5;124m.java\u001b[39m\u001b[38;5;124m'\u001b[39m\n\u001b[0;32m     16\u001b[0m new_file_path \u001b[38;5;241m=\u001b[39m os\u001b[38;5;241m.\u001b[39mpath\u001b[38;5;241m.\u001b[39mjoin(folder_path, new_file_name)\n\u001b[1;32m---> 17\u001b[0m \u001b[43mos\u001b[49m\u001b[38;5;241;43m.\u001b[39;49m\u001b[43mrename\u001b[49m\u001b[43m(\u001b[49m\u001b[43mos\u001b[49m\u001b[38;5;241;43m.\u001b[39;49m\u001b[43mpath\u001b[49m\u001b[38;5;241;43m.\u001b[39;49m\u001b[43mjoin\u001b[49m\u001b[43m(\u001b[49m\u001b[43mfolder_path\u001b[49m\u001b[43m,\u001b[49m\u001b[43m \u001b[49m\u001b[43mfile\u001b[49m\u001b[43m)\u001b[49m\u001b[43m,\u001b[49m\u001b[43m \u001b[49m\u001b[43mnew_file_path\u001b[49m\u001b[43m)\u001b[49m\n",
      "\u001b[1;31mFileExistsError\u001b[0m: [WinError 183] No se puede crear un archivo que ya existe: 'C:\\\\Users\\\\Usuario\\\\Desktop\\\\CS3331_Students_exercise\\\\Assignment-04_Balloon\\\\student 04\\\\student04_Balloon_student_04_(2).java' -> 'C:\\\\Users\\\\Usuario\\\\Desktop\\\\CS3331_Students_exercise\\\\Assignment-04_Balloon\\\\student 04\\\\Student t04.java'"
     ]
    }
   ],
   "source": [
    "import os\n",
    "\n",
    "def rename_java_files():\n",
    "    current_dir = os.getcwd()\n",
    "    folders = os.listdir(current_dir)\n",
    "    for folder in folders:\n",
    "        if folder.startswith('student'):\n",
    "            folder_path = os.path.join(current_dir, folder)\n",
    "            if os.path.isdir(folder_path):\n",
    "                files = os.listdir(folder_path)\n",
    "                for file in files:\n",
    "                    if file.endswith('.java') and file.startswith('student') and '_' in file:\n",
    "                        split_file = file.split('_')\n",
    "                        student_number = split_file[0][6:]\n",
    "                        new_file_name = f'Student {student_number}.java'\n",
    "                        new_file_path = os.path.join(folder_path, new_file_name)\n",
    "                        os.rename(os.path.join(folder_path, file), new_file_path)\n",
    "            \n",
    "rename_java_files()\n"
   ]
  },
  {
   "cell_type": "code",
   "execution_count": 7,
   "id": "cfe5b94a",
   "metadata": {},
   "outputs": [
    {
     "ename": "FileExistsError",
     "evalue": "[WinError 183] No se puede crear un archivo que ya existe: 'C:\\\\Users\\\\Usuario\\\\Desktop\\\\CS3331_Students_exercise\\\\Assignment-04_Balloon\\\\student 10\\\\student10_Balloon_student_10_(2).java' -> 'C:\\\\Users\\\\Usuario\\\\Desktop\\\\CS3331_Students_exercise\\\\Assignment-04_Balloon\\\\student 10\\\\Student .java'",
     "output_type": "error",
     "traceback": [
      "\u001b[1;31m-----------------------------------------------------------------\u001b[0m",
      "\u001b[1;31mFileExistsError\u001b[0m                 Traceback (most recent call last)",
      "Input \u001b[1;32mIn [7]\u001b[0m, in \u001b[0;36m<cell line: 19>\u001b[1;34m()\u001b[0m\n\u001b[0;32m     16\u001b[0m                         new_file_path \u001b[38;5;241m=\u001b[39m os\u001b[38;5;241m.\u001b[39mpath\u001b[38;5;241m.\u001b[39mjoin(folder_path, new_file_name)\n\u001b[0;32m     17\u001b[0m                         os\u001b[38;5;241m.\u001b[39mrename(os\u001b[38;5;241m.\u001b[39mpath\u001b[38;5;241m.\u001b[39mjoin(folder_path, file), new_file_path)\n\u001b[1;32m---> 19\u001b[0m \u001b[43mrename_java_files\u001b[49m\u001b[43m(\u001b[49m\u001b[43m)\u001b[49m\n",
      "Input \u001b[1;32mIn [7]\u001b[0m, in \u001b[0;36mrename_java_files\u001b[1;34m()\u001b[0m\n\u001b[0;32m     15\u001b[0m new_file_name \u001b[38;5;241m=\u001b[39m \u001b[38;5;124mf\u001b[39m\u001b[38;5;124m'\u001b[39m\u001b[38;5;124mStudent \u001b[39m\u001b[38;5;132;01m{\u001b[39;00mstudent_number\u001b[38;5;132;01m}\u001b[39;00m\u001b[38;5;124m.java\u001b[39m\u001b[38;5;124m'\u001b[39m\n\u001b[0;32m     16\u001b[0m new_file_path \u001b[38;5;241m=\u001b[39m os\u001b[38;5;241m.\u001b[39mpath\u001b[38;5;241m.\u001b[39mjoin(folder_path, new_file_name)\n\u001b[1;32m---> 17\u001b[0m \u001b[43mos\u001b[49m\u001b[38;5;241;43m.\u001b[39;49m\u001b[43mrename\u001b[49m\u001b[43m(\u001b[49m\u001b[43mos\u001b[49m\u001b[38;5;241;43m.\u001b[39;49m\u001b[43mpath\u001b[49m\u001b[38;5;241;43m.\u001b[39;49m\u001b[43mjoin\u001b[49m\u001b[43m(\u001b[49m\u001b[43mfolder_path\u001b[49m\u001b[43m,\u001b[49m\u001b[43m \u001b[49m\u001b[43mfile\u001b[49m\u001b[43m)\u001b[49m\u001b[43m,\u001b[49m\u001b[43m \u001b[49m\u001b[43mnew_file_path\u001b[49m\u001b[43m)\u001b[49m\n",
      "\u001b[1;31mFileExistsError\u001b[0m: [WinError 183] No se puede crear un archivo que ya existe: 'C:\\\\Users\\\\Usuario\\\\Desktop\\\\CS3331_Students_exercise\\\\Assignment-04_Balloon\\\\student 10\\\\student10_Balloon_student_10_(2).java' -> 'C:\\\\Users\\\\Usuario\\\\Desktop\\\\CS3331_Students_exercise\\\\Assignment-04_Balloon\\\\student 10\\\\Student .java'"
     ]
    }
   ],
   "source": [
    "import os\n",
    "\n",
    "def rename_java_files():\n",
    "    current_dir = os.getcwd()\n",
    "    folders = os.listdir(current_dir)\n",
    "    for folder in folders:\n",
    "        if folder.startswith('student'):\n",
    "            folder_path = os.path.join(current_dir, folder)\n",
    "            if os.path.isdir(folder_path):\n",
    "                files = os.listdir(folder_path)\n",
    "                for file in files:\n",
    "                    if file.endswith('.java') and file.startswith('student') and '_' in file:\n",
    "                        split_file = file.split('_')\n",
    "                        student_number = ''.join(filter(str.isdigit, split_file[1]))\n",
    "                        new_file_name = f'Student {student_number}.java'\n",
    "                        new_file_path = os.path.join(folder_path, new_file_name)\n",
    "                        os.rename(os.path.join(folder_path, file), new_file_path)\n",
    "            \n",
    "rename_java_files()\n"
   ]
  },
  {
   "cell_type": "code",
   "execution_count": null,
   "id": "02806db4",
   "metadata": {},
   "outputs": [],
   "source": []
  }
 ],
 "metadata": {
  "kernelspec": {
   "display_name": "Python 3 (ipykernel)",
   "language": "python",
   "name": "python3"
  },
  "language_info": {
   "codemirror_mode": {
    "name": "ipython",
    "version": 3
   },
   "file_extension": ".py",
   "mimetype": "text/x-python",
   "name": "python",
   "nbconvert_exporter": "python",
   "pygments_lexer": "ipython3",
   "version": "3.8.8"
  }
 },
 "nbformat": 4,
 "nbformat_minor": 5
}
