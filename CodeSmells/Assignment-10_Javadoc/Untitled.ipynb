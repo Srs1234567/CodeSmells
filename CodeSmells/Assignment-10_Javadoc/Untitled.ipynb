{
 "cells": [
  {
   "cell_type": "code",
   "execution_count": null,
   "id": "32cc5df2",
   "metadata": {},
   "outputs": [],
   "source": [
    "\n"
   ]
  },
  {
   "cell_type": "code",
   "execution_count": null,
   "id": "709ebad2",
   "metadata": {},
   "outputs": [],
   "source": []
  },
  {
   "cell_type": "code",
   "execution_count": null,
   "id": "4e2be710",
   "metadata": {},
   "outputs": [],
   "source": [
    "\n"
   ]
  },
  {
   "cell_type": "code",
   "execution_count": null,
   "id": "a5b9595d",
   "metadata": {},
   "outputs": [],
   "source": []
  },
  {
   "cell_type": "code",
   "execution_count": null,
   "id": "b15a3cf1",
   "metadata": {},
   "outputs": [],
   "source": []
  },
  {
   "cell_type": "code",
   "execution_count": null,
   "id": "e30a2b71",
   "metadata": {
    "scrolled": true
   },
   "outputs": [],
   "source": []
  },
  {
   "cell_type": "code",
   "execution_count": 2,
   "id": "cfe5b94a",
   "metadata": {},
   "outputs": [],
   "source": [
    "import os\n",
    "\n",
    "def group_java_files():\n",
    "    current_dir = os.getcwd()\n",
    "    folders = os.listdir(current_dir)\n",
    "    for file in folders:\n",
    "        if file.endswith('.java') and (file.startswith('Student') or file.startswith('student')):\n",
    "            student_number = file.split(' ')[1]\n",
    "            folder_name = f'Student {student_number}'\n",
    "            folder_path = os.path.join(current_dir, folder_name)\n",
    "            if not os.path.exists(folder_path):\n",
    "                os.mkdir(folder_path)\n",
    "            new_file_path = os.path.join(folder_path, file)\n",
    "            try:\n",
    "                os.rename(os.path.join(current_dir, file), new_file_path.capitalize())\n",
    "            except (FileExistsError, PermissionError):\n",
    "                # Handle file name conflicts or permission errors here\n",
    "                pass\n",
    "\n",
    "group_java_files()\n",
    "\n"
   ]
  },
  {
   "cell_type": "code",
   "execution_count": null,
   "id": "02806db4",
   "metadata": {},
   "outputs": [],
   "source": []
  },
  {
   "cell_type": "code",
   "execution_count": 3,
   "id": "20c9d459",
   "metadata": {},
   "outputs": [],
   "source": [
    "import os\n",
    "\n",
    "def group_java_files():\n",
    "    current_dir = os.getcwd()\n",
    "    java_files = [f for f in os.listdir(current_dir) if f.endswith('.java') and (f.startswith('Student') or f.startswith('student'))]\n",
    "    \n",
    "    for file in java_files:\n",
    "        # Get student number\n",
    "        student_number = file.split(' ')[1].split('.')[0]\n",
    "        \n",
    "        # Create the folder name\n",
    "        folder_name = f'Student {student_number}'\n",
    "        \n",
    "        # Create the folder if it doesn't exist\n",
    "        folder_path = os.path.join(current_dir, folder_name)\n",
    "        if not os.path.exists(folder_path):\n",
    "            os.makedirs(folder_path)\n",
    "        \n",
    "        # Move the file to the folder\n",
    "        new_file_path = os.path.join(folder_path, file)\n",
    "        try:\n",
    "            os.rename(os.path.join(current_dir, file), new_file_path)\n",
    "        except FileExistsError:\n",
    "            # Handle file name conflicts here\n",
    "            pass\n",
    "\n",
    "if __name__ == '__main__':\n",
    "    group_java_files()\n"
   ]
  },
  {
   "cell_type": "code",
   "execution_count": null,
   "id": "f8bb3fe0",
   "metadata": {},
   "outputs": [],
   "source": []
  }
 ],
 "metadata": {
  "kernelspec": {
   "display_name": "Python 3 (ipykernel)",
   "language": "python",
   "name": "python3"
  },
  "language_info": {
   "codemirror_mode": {
    "name": "ipython",
    "version": 3
   },
   "file_extension": ".py",
   "mimetype": "text/x-python",
   "name": "python",
   "nbconvert_exporter": "python",
   "pygments_lexer": "ipython3",
   "version": "3.8.8"
  }
 },
 "nbformat": 4,
 "nbformat_minor": 5
}
